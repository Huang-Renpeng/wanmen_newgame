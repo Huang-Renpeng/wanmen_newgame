{
 "cells": [
  {
   "cell_type": "code",
   "execution_count": 6,
   "metadata": {},
   "outputs": [
    {
     "ename": "SyntaxError",
     "evalue": "keyword can't be an expression (<ipython-input-6-9d42ddf24066>, line 3)",
     "output_type": "error",
     "traceback": [
      "\u001b[1;36m  File \u001b[1;32m\"<ipython-input-6-9d42ddf24066>\"\u001b[1;36m, line \u001b[1;32m3\u001b[0m\n\u001b[1;33m    print( str(i)* str(j)= str( i * j ), end ='\\n')\u001b[0m\n\u001b[1;37m          ^\u001b[0m\n\u001b[1;31mSyntaxError\u001b[0m\u001b[1;31m:\u001b[0m keyword can't be an expression\n"
     ]
    }
   ],
   "source": [
    "for i in range( 1, 10):\n",
    "    for j in range( 1, 10):\n",
    "            print( j* i= str( i * j ), end ='\\n')"
   ]
  },
  {
   "cell_type": "code",
   "execution_count": 11,
   "metadata": {},
   "outputs": [
    {
     "name": "stdout",
     "output_type": "stream",
     "text": [
      "1\n",
      "1\n",
      "2\n",
      "1\n",
      "2\n",
      "3\n",
      "1\n",
      "2\n",
      "3\n",
      "4\n",
      "1\n",
      "2\n",
      "3\n",
      "4\n",
      "5\n",
      "1\n",
      "2\n",
      "3\n",
      "4\n",
      "5\n",
      "6\n",
      "1\n",
      "2\n",
      "3\n",
      "4\n",
      "5\n",
      "6\n",
      "7\n",
      "1\n",
      "2\n",
      "3\n",
      "4\n",
      "5\n",
      "6\n",
      "7\n",
      "8\n"
     ]
    }
   ],
   "source": [
    "for i in range( 1, 10):\n",
    "    for j in range( 1, i):\n",
    "            print( j ,end = '\\n')"
   ]
  },
  {
   "cell_type": "code",
   "execution_count": 15,
   "metadata": {},
   "outputs": [
    {
     "name": "stdout",
     "output_type": "stream",
     "text": [
      " 1 ✖  2 = 2  1 ✖  3 = 3  2 ✖  3 = 6  1 ✖  4 = 4  2 ✖  4 = 8  3 ✖  4 = 12 1 ✖  5 = 5  2 ✖  5 = 10 3 ✖  5 = 15 4 ✖  5 = 20 1 ✖  6 = 6  2 ✖  6 = 12 3 ✖  6 = 18 4 ✖  6 = 24 5 ✖  6 = 30 1 ✖  7 = 7  2 ✖  7 = 14 3 ✖  7 = 21 4 ✖  7 = 28 5 ✖  7 = 35 6 ✖  7 = 42 1 ✖  8 = 8  2 ✖  8 = 16 3 ✖  8 = 24 4 ✖  8 = 32 5 ✖  8 = 40 6 ✖  8 = 48 7 ✖  8 = 56 1 ✖  9 = 9  2 ✖  9 = 18 3 ✖  9 = 27 4 ✖  9 = 36 5 ✖  9 = 45 6 ✖  9 = 54 7 ✖  9 = 63 8 ✖  9 = 72"
     ]
    }
   ],
   "source": [
    "for i in range( 1, 10):\n",
    "    for j in range( 1, i):\n",
    "            print( '%2d ✖ %2d = %-2d'%(j,i,i*j),end ='' )"
   ]
  },
  {
   "cell_type": "code",
   "execution_count": 14,
   "metadata": {},
   "outputs": [
    {
     "name": "stdout",
     "output_type": "stream",
     "text": [
      " 1 ✖  3 =  3 1 ✖  4 =  4 2 ✖  4 =  8 1 ✖  5 =  5 2 ✖  5 = 10 3 ✖  5 = 15 1 ✖  6 =  6 2 ✖  6 = 12 3 ✖  6 = 18 4 ✖  6 = 24 1 ✖  7 =  7 2 ✖  7 = 14 3 ✖  7 = 21 4 ✖  7 = 28 5 ✖  7 = 35 1 ✖  8 =  8 2 ✖  8 = 16 3 ✖  8 = 24 4 ✖  8 = 32 5 ✖  8 = 40 6 ✖  8 = 48 1 ✖  9 =  9 2 ✖  9 = 18 3 ✖  9 = 27 4 ✖  9 = 36 5 ✖  9 = 45 6 ✖  9 = 54 7 ✖  9 = 63"
     ]
    }
   ],
   "source": [
    "for i in range( 1, 10):\n",
    "    for j in range( 1, i-1):\n",
    "            print( '%2d ✖ %2d = %2d'%(j,i,i*j),end ='' )"
   ]
  },
  {
   "cell_type": "code",
   "execution_count": 26,
   "metadata": {},
   "outputs": [
    {
     "name": "stdout",
     "output_type": "stream",
     "text": [
      "1 ╳ 1 =  1 \n",
      "1 ╳ 2 =  2 2 ╳ 2 =  4 \n",
      "1 ╳ 3 =  3 2 ╳ 3 =  6 3 ╳ 3 =  9 \n",
      "1 ╳ 4 =  4 2 ╳ 4 =  8 3 ╳ 4 = 12 4 ╳ 4 = 16 \n",
      "1 ╳ 5 =  5 2 ╳ 5 = 10 3 ╳ 5 = 15 4 ╳ 5 = 20 5 ╳ 5 = 25 \n",
      "1 ╳ 6 =  6 2 ╳ 6 = 12 3 ╳ 6 = 18 4 ╳ 6 = 24 5 ╳ 6 = 30 6 ╳ 6 = 36 \n",
      "1 ╳ 7 =  7 2 ╳ 7 = 14 3 ╳ 7 = 21 4 ╳ 7 = 28 5 ╳ 7 = 35 6 ╳ 7 = 42 7 ╳ 7 = 49 \n",
      "1 ╳ 8 =  8 2 ╳ 8 = 16 3 ╳ 8 = 24 4 ╳ 8 = 32 5 ╳ 8 = 40 6 ╳ 8 = 48 7 ╳ 8 = 56 8 ╳ 8 = 64 \n",
      "1 ╳ 9 =  9 2 ╳ 9 = 18 3 ╳ 9 = 27 4 ╳ 9 = 36 5 ╳ 9 = 45 6 ╳ 9 = 54 7 ╳ 9 = 63 8 ╳ 9 = 72 9 ╳ 9 = 81 \n"
     ]
    }
   ],
   "source": [
    "for i in range( 1, 10):\n",
    "    for j in range( 1, i+1):\n",
    "            print( '%-2d╳%2d =%3d'%(j,i,i*j),end =' ' )\n",
    "\n",
    "    print()\n"
   ]
  }
 ],
 "metadata": {
  "kernelspec": {
   "display_name": "Python 3",
   "language": "python",
   "name": "python3"
  },
  "language_info": {
   "codemirror_mode": {
    "name": "ipython",
    "version": 3
   },
   "file_extension": ".py",
   "mimetype": "text/x-python",
   "name": "python",
   "nbconvert_exporter": "python",
   "pygments_lexer": "ipython3",
   "version": "3.7.3"
  }
 },
 "nbformat": 4,
 "nbformat_minor": 2
}
