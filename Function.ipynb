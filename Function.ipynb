{
 "cells": [
  {
   "cell_type": "markdown",
   "metadata": {},
   "source": [
    "*Function Definition*"
   ]
  },
  {
   "cell_type": "code",
   "execution_count": 1,
   "metadata": {},
   "outputs": [
    {
     "data": {
      "text/plain": [
       "function"
      ]
     },
     "execution_count": 1,
     "metadata": {},
     "output_type": "execute_result"
    }
   ],
   "source": [
    "# An function that does nothing\n",
    "def do_nothing():\n",
    "    pass\n",
    "\n",
    "type(do_nothing)"
   ]
  },
  {
   "cell_type": "code",
   "execution_count": 2,
   "metadata": {
    "scrolled": true
   },
   "outputs": [
    {
     "name": "stdout",
     "output_type": "stream",
     "text": [
      "Hello，Ronald!\n"
     ]
    }
   ],
   "source": [
    "# An function without parameters and return nothing\n",
    "def greeting():\n",
    "    print('Hello，Ronald!' )\n",
    "# call the function\n",
    "a = greeting()"
   ]
  },
  {
   "cell_type": "code",
   "execution_count": 5,
   "metadata": {},
   "outputs": [
    {
     "data": {
      "text/plain": [
       "NoneType"
      ]
     },
     "execution_count": 5,
     "metadata": {},
     "output_type": "execute_result"
    }
   ],
   "source": [
    "type(a)"
   ]
  },
  {
   "cell_type": "code",
   "execution_count": 3,
   "metadata": {},
   "outputs": [
    {
     "ename": "NameError",
     "evalue": "name 'Ronald' is not defined",
     "output_type": "error",
     "traceback": [
      "\u001b[1;31m---------------------------------------------------------------------------\u001b[0m",
      "\u001b[1;31mNameError\u001b[0m                                 Traceback (most recent call last)",
      "\u001b[1;32m<ipython-input-3-94546a742b8c>\u001b[0m in \u001b[0;36m<module>\u001b[1;34m\u001b[0m\n\u001b[0;32m      3\u001b[0m     \u001b[0mprint\u001b[0m\u001b[1;33m(\u001b[0m\u001b[1;34m'Hello，%s!'\u001b[0m\u001b[1;33m%\u001b[0m \u001b[0mname\u001b[0m \u001b[1;33m)\u001b[0m\u001b[1;33m\u001b[0m\u001b[1;33m\u001b[0m\u001b[0m\n\u001b[0;32m      4\u001b[0m \u001b[1;31m# call the function\u001b[0m\u001b[1;33m\u001b[0m\u001b[1;33m\u001b[0m\u001b[1;33m\u001b[0m\u001b[0m\n\u001b[1;32m----> 5\u001b[1;33m \u001b[0mgreeting\u001b[0m\u001b[1;33m(\u001b[0m\u001b[0mRonald\u001b[0m\u001b[1;33m)\u001b[0m\u001b[1;33m\u001b[0m\u001b[1;33m\u001b[0m\u001b[0m\n\u001b[0m",
      "\u001b[1;31mNameError\u001b[0m: name 'Ronald' is not defined"
     ]
    }
   ],
   "source": [
    "# An function with a parameter that return nothing\n",
    "def greeting(name):\n",
    "    print('Hello，%s!'% name )\n",
    "# call the function\n",
    "greeting(Ronald)"
   ]
  },
  {
   "cell_type": "code",
   "execution_count": 4,
   "metadata": {},
   "outputs": [
    {
     "name": "stdout",
     "output_type": "stream",
     "text": [
      "Hello，Ronald!\n"
     ]
    }
   ],
   "source": [
    "# An function with a parameter that return nothing\n",
    "def greeting(name):\n",
    "    print('Hello，%s!'% name )\n",
    "# call the function\n",
    "greeting('Ronald')"
   ]
  },
  {
   "cell_type": "code",
   "execution_count": 9,
   "metadata": {},
   "outputs": [
    {
     "name": "stdout",
     "output_type": "stream",
     "text": [
      "Hello Ronald!\n"
     ]
    }
   ],
   "source": [
    "# An function with a parameter and return a string\n",
    "def greeting(name):\n",
    "    return 'Hello '+ name +'!'\n",
    "# call the function\n",
    "s = greeting('Ronald')\n",
    "print(s)"
   ]
  },
  {
   "cell_type": "code",
   "execution_count": 11,
   "metadata": {},
   "outputs": [
    {
     "name": "stdout",
     "output_type": "stream",
     "text": [
      "wine: chardonnay,entree: chicken,dessert: cake\n"
     ]
    }
   ],
   "source": [
    "# An function with three parameters \n",
    "def menu(wine,entree,dessert):\n",
    "    return 'wine: ' + wine + ',entree: ' + entree + ',dessert: '+ dessert\n",
    "# call the function\n",
    "s = menu('chardonnay','chicken','cake')\n",
    "print(s)"
   ]
  },
  {
   "cell_type": "markdown",
   "metadata": {},
   "source": [
    "*Position Argument*"
   ]
  },
  {
   "cell_type": "code",
   "execution_count": 7,
   "metadata": {},
   "outputs": [
    {
     "data": {
      "text/plain": [
       "'wine:chardonnay,entree:chicken,dessert:cake'"
      ]
     },
     "execution_count": 7,
     "metadata": {},
     "output_type": "execute_result"
    }
   ],
   "source": [
    "# An function with three parameters \n",
    "def menu(wine,entree,dessert):\n",
    "    return 'wine:{},entree:{},dessert:{}'.format(wine,entree,dessert)\n",
    "# call the function\n",
    "menu('chardonnay','chicken','cake')"
   ]
  },
  {
   "cell_type": "code",
   "execution_count": 12,
   "metadata": {},
   "outputs": [
    {
     "data": {
      "text/plain": [
       "'wine: beef,entree: bagel,dessert: bordeaux'"
      ]
     },
     "execution_count": 12,
     "metadata": {},
     "output_type": "execute_result"
    }
   ],
   "source": [
    "menu('beef','bagel','bordeaux')"
   ]
  },
  {
   "cell_type": "markdown",
   "metadata": {},
   "source": [
    "*Keyword Argument*"
   ]
  },
  {
   "cell_type": "code",
   "execution_count": 13,
   "metadata": {},
   "outputs": [
    {
     "data": {
      "text/plain": [
       "'wine: bordeaux,entree: beef,dessert: bagel'"
      ]
     },
     "execution_count": 13,
     "metadata": {},
     "output_type": "execute_result"
    }
   ],
   "source": [
    "menu(entree = 'beef',dessert = 'bagel',wine = 'bordeaux')"
   ]
  },
  {
   "cell_type": "markdown",
   "metadata": {},
   "source": [
    "*Default Parameter Values*"
   ]
  },
  {
   "cell_type": "code",
   "execution_count": 15,
   "metadata": {},
   "outputs": [
    {
     "data": {
      "text/plain": [
       "'wine:chardonnay,entree:chicken,dessert:pudding'"
      ]
     },
     "execution_count": 15,
     "metadata": {},
     "output_type": "execute_result"
    }
   ],
   "source": [
    "# default dessert is pudding\n",
    "def menu(wine,entree,dessert = 'pudding'):\n",
    "    return 'wine:{},entree:{},dessert:{}'.format(wine,entree,dessert)\n",
    "# call the function\n",
    "menu('chardonnay','chicken')"
   ]
  },
  {
   "cell_type": "markdown",
   "metadata": {},
   "source": [
    "_Gather Positional Arguments with *_"
   ]
  },
  {
   "cell_type": "code",
   "execution_count": 28,
   "metadata": {},
   "outputs": [],
   "source": [
    "def print_args(*args):\n",
    "    print(type(args))\n",
    "    print('Positional args: ',args )"
   ]
  },
  {
   "cell_type": "code",
   "execution_count": 29,
   "metadata": {},
   "outputs": [
    {
     "name": "stdout",
     "output_type": "stream",
     "text": [
      "<class 'tuple'>\n",
      "Positional args:  (1, 2, 3, 'hello', 'world', 'good')\n"
     ]
    }
   ],
   "source": [
    "print_args(1,2,3,'hello','world','good')"
   ]
  },
  {
   "cell_type": "code",
   "execution_count": 37,
   "metadata": {},
   "outputs": [],
   "source": [
    "def print_args_with_required(req1,req2,*args):\n",
    "    print('required arg 1: ',req1 )\n",
    "    print('required arg 2: ',req2 )\n",
    "    print('all other args: ',args )"
   ]
  },
  {
   "cell_type": "code",
   "execution_count": 38,
   "metadata": {},
   "outputs": [
    {
     "name": "stdout",
     "output_type": "stream",
     "text": [
      "required arg 1:  1\n",
      "required arg 2:  2\n",
      "all other args:  (3, 'hello', 'world', 'good')\n"
     ]
    }
   ],
   "source": [
    "print_args_with_required(1,2,3,'hello','world','good')"
   ]
  },
  {
   "cell_type": "code",
   "execution_count": 43,
   "metadata": {},
   "outputs": [
    {
     "name": "stdout",
     "output_type": "stream",
     "text": [
      "required arg 1:  1\n",
      "required arg 2:  2\n",
      "all other args:  ()\n"
     ]
    }
   ],
   "source": [
    "print_args_with_required(1,2)"
   ]
  },
  {
   "cell_type": "markdown",
   "metadata": {},
   "source": [
    "*Gather Keywords Arguments with ** *"
   ]
  },
  {
   "cell_type": "code",
   "execution_count": 39,
   "metadata": {},
   "outputs": [],
   "source": [
    "def print_kwargs(**kwargs):\n",
    "    print(type(kwargs))\n",
    "    print('keyword args: ',kwargs )"
   ]
  },
  {
   "cell_type": "code",
   "execution_count": 40,
   "metadata": {},
   "outputs": [
    {
     "name": "stdout",
     "output_type": "stream",
     "text": [
      "<class 'dict'>\n",
      "keyword args:  {'first': 1, 'second': 2}\n"
     ]
    }
   ],
   "source": [
    " print_kwargs(first = 1,second = 2)"
   ]
  },
  {
   "cell_type": "code",
   "execution_count": 41,
   "metadata": {},
   "outputs": [],
   "source": [
    "def print_all_args(req1,*args,**kwargs):\n",
    "    print(type(args))\n",
    "    print(type(kwargs))\n",
    "    print('required arg 1: ',req1 )\n",
    "    print('Positional args: ',args )\n",
    "    print('keyword args: ',kwargs )"
   ]
  },
  {
   "cell_type": "code",
   "execution_count": 42,
   "metadata": {},
   "outputs": [
    {
     "name": "stdout",
     "output_type": "stream",
     "text": [
      "<class 'tuple'>\n",
      "<class 'dict'>\n",
      "required arg 1:  1\n",
      "Positional args:  (2, 3)\n",
      "keyword args:  {'s': 'hello'}\n"
     ]
    }
   ],
   "source": [
    "print_all_args(1,2,3,s='hello')"
   ]
  },
  {
   "cell_type": "code",
   "execution_count": 44,
   "metadata": {},
   "outputs": [
    {
     "name": "stdout",
     "output_type": "stream",
     "text": [
      "<class 'tuple'>\n",
      "<class 'dict'>\n",
      "required arg 1:  1\n",
      "Positional args:  ()\n",
      "keyword args:  {}\n"
     ]
    }
   ],
   "source": [
    "print_all_args(1)"
   ]
  },
  {
   "cell_type": "markdown",
   "metadata": {},
   "source": [
    "*Lambda( 匿名函数 )*"
   ]
  },
  {
   "cell_type": "code",
   "execution_count": 45,
   "metadata": {},
   "outputs": [
    {
     "name": "stdout",
     "output_type": "stream",
     "text": [
      "2 * 4 =  8\n"
     ]
    }
   ],
   "source": [
    "def binary_operation(func,op1,op2):\n",
    "    return func(op1,op2)\n",
    "\n",
    "def mul(op1,op2):\n",
    "    return op1*op2\n",
    "\n",
    "print('2 * 4 = ',binary_operation(mul,2,4))"
   ]
  },
  {
   "cell_type": "markdown",
   "metadata": {},
   "source": [
    "```python\n",
    "lambda op1,op2: op1 * op2\n",
    "is equal to \n",
    "def mul(op1,op2):\n",
    "    return op1*op2\n",
    "```"
   ]
  },
  {
   "cell_type": "code",
   "execution_count": 49,
   "metadata": {},
   "outputs": [
    {
     "data": {
      "text/plain": [
       "8"
      ]
     },
     "execution_count": 49,
     "metadata": {},
     "output_type": "execute_result"
    }
   ],
   "source": [
    "binary_operation(lambda op1,op2: op1 * op2, 2, 4)"
   ]
  },
  {
   "cell_type": "markdown",
   "metadata": {},
   "source": [
    "*First-Class Citizen*"
   ]
  },
  {
   "cell_type": "code",
   "execution_count": 3,
   "metadata": {},
   "outputs": [],
   "source": [
    "def answer1():\n",
    "    print('Python is the best computer language!')\n",
    "    \n",
    "def answer2():\n",
    "    print('No! PHP is the best one!')\n",
    "\n",
    "# A function that takes another function as argument\n",
    "def run_something(func):\n",
    "    func()"
   ]
  },
  {
   "cell_type": "code",
   "execution_count": 4,
   "metadata": {},
   "outputs": [
    {
     "name": "stdout",
     "output_type": "stream",
     "text": [
      "Python is the best computer language!\n",
      "No! PHP is the best one!\n"
     ]
    }
   ],
   "source": [
    "run_something(answer1)\n",
    "run_something(answer2)"
   ]
  },
  {
   "cell_type": "code",
   "execution_count": 5,
   "metadata": {},
   "outputs": [],
   "source": [
    "def exp_factory(n):\n",
    "    def exp(a):\n",
    "        return a ** n\n",
    "    return exp"
   ]
  },
  {
   "cell_type": "code",
   "execution_count": 6,
   "metadata": {},
   "outputs": [
    {
     "data": {
      "text/plain": [
       "function"
      ]
     },
     "execution_count": 6,
     "metadata": {},
     "output_type": "execute_result"
    }
   ],
   "source": [
    "square = exp_factory(2)\n",
    "type(square)"
   ]
  },
  {
   "cell_type": "code",
   "execution_count": 7,
   "metadata": {},
   "outputs": [
    {
     "data": {
      "text/plain": [
       "9"
      ]
     },
     "execution_count": 7,
     "metadata": {},
     "output_type": "execute_result"
    }
   ],
   "source": [
    "square(3)"
   ]
  },
  {
   "cell_type": "markdown",
   "metadata": {},
   "source": [
    "*Exception*"
   ]
  },
  {
   "cell_type": "code",
   "execution_count": 10,
   "metadata": {},
   "outputs": [
    {
     "name": "stdout",
     "output_type": "stream",
     "text": [
      "5 / 4 =  1.25\n"
     ]
    }
   ],
   "source": [
    "def binary_operation(func,op1,op2):\n",
    "    return func(op1,op2)\n",
    "\n",
    "def div(op1,op2):\n",
    "    try:\n",
    "        return op1 / op2\n",
    "    except ZeroDivisionError:\n",
    "        print('Division by zero!')\n",
    "\n",
    "print('5 / 4 = ',binary_operation(div,5,4))"
   ]
  },
  {
   "cell_type": "code",
   "execution_count": 11,
   "metadata": {},
   "outputs": [
    {
     "name": "stdout",
     "output_type": "stream",
     "text": [
      "Division by zero!\n",
      "5 / 0 =  None\n"
     ]
    }
   ],
   "source": [
    "print('5 / 0 = ',binary_operation(div,5,0))"
   ]
  }
 ],
 "metadata": {
  "kernelspec": {
   "display_name": "Python 3",
   "language": "python",
   "name": "python3"
  },
  "language_info": {
   "codemirror_mode": {
    "name": "ipython",
    "version": 3
   },
   "file_extension": ".py",
   "mimetype": "text/x-python",
   "name": "python",
   "nbconvert_exporter": "python",
   "pygments_lexer": "ipython3",
   "version": "3.7.3"
  }
 },
 "nbformat": 4,
 "nbformat_minor": 2
}
