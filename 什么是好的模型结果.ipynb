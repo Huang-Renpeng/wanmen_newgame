{
 "cells": [
  {
   "cell_type": "markdown",
   "metadata": {},
   "source": [
    "#  监督学习：什么是好的模型结果？ Cost Function"
   ]
  },
  {
   "cell_type": "code",
   "execution_count": null,
   "metadata": {},
   "outputs": [],
   "source": []
  },
  {
   "cell_type": "code",
   "execution_count": null,
   "metadata": {},
   "outputs": [],
   "source": []
  },
  {
   "cell_type": "markdown",
   "metadata": {},
   "source": [
    "# 有时间再讨论 - imbalance 样本不均衡问题"
   ]
  },
  {
   "cell_type": "markdown",
   "metadata": {},
   "source": [
    "1.连续变量的模型，如何来衡量模型结果？   \n",
    "2.二分类问题   \n",
    "* 假设经验，p-value\n",
    "* confusion matrix\n",
    "* 召回率，准确率\n",
    "* F1-score\n",
    "* ROC & AUC\n",
    "\n",
    "3.多分类模型，如何衡量模型结果   \n",
    "4.imbalance问题"
   ]
  },
  {
   "cell_type": "markdown",
   "metadata": {},
   "source": [
    "**1.如何定义一个模型结果的好坏？**\n",
    "* 比惨"
   ]
  },
  {
   "cell_type": "markdown",
   "metadata": {},
   "source": [
    "**2.连续变量的模型，如何来衡量模型结果？**  \n",
    "* 距离\n",
    "* 残差\n",
    "* sum of squares error:SSE 残差平方和   \n",
    "$\\sum(y_i - \\widehat{y}_i)^2 = SSE$     \n",
    "    * $y_i$是样本值   \n",
    "    * $\\widehat{y}_i$是拟合值\n",
    "    * $\\widehat{y}_i = \\alpha + \\beta x_i$,其中$\\alpha$和$\\beta$由最小二乘法求得\n",
    "* sum of squares for regression: SSR 回归平方和   \n",
    "$\\sum(\\widehat{y}_i - \\overline{y})^2 = SSR$    \n",
    "    * $\\widehat{y}_i$是拟合值\n",
    "    * $\\overline{y}$是期望或平均值值\n",
    "* total sum of squares: SST 总偏差平方和   \n",
    "$\\sum(y_i - \\overline{y})^2 = SST$   \n",
    "\n",
    "$ SST = SSE + SSR $   \n",
    "*$R^2$是什么？*\n",
    "* 样本的总偏差平方和中，被回归平方和解释的百分比   \n",
    "* $R^2 = \\frac{SSR}{SST} = 1 - \\frac{SSE}{SST} $"
   ]
  },
  {
   "cell_type": "markdown",
   "metadata": {},
   "source": [
    "**3.二分类问题**   \n",
    "1.假设检验   \n",
    "https://support.minitab.com/zh-cn/minitab/18/help-and-how-to/statistics/basic-statistics/supporting-topics/basics/what-is-a-hypothesis-test/   \n",
    "https://wiki.mbalib.com/wiki/%E5%81%87%E8%AE%BE%E6%A3%80%E9%AA%8C   \n",
    "2.原假设，事件，事件的概率分布   \n",
    "3.p-value：在原假设成立时，出现观测值以及更极端情况的概率   \n",
    "https://www.jianshu.com/p/4c9b49878f3d   \n",
    "4.备择假设   \n",
    "5.Threshold分类阈值   \n",
    "6.设立分类阈值的结果：第一类错误(假阳性)：弃真，第二类错误：存伪   \n",
    "7.定义阈值的分类效果：显著性水平α   \n",
    "8.α，β，1 - β，or power \n",
    "   * α- 第一类错误(false positive)\n",
    "   * β- 第二类错误(false negative)\n",
    "   * power = 1 - β   \n",
    "\n",
    "9.ROC曲线以及其性质：0.横纵坐标( false positive,true positive )， 1.一般来说面积>0.5, 2.斜率为正   \n",
    "   * 曲线单调增加   \n",
    "   * 每个点都在45°线上方\n",
    "   * 曲线下方的面积就是AUC( area under curve )\n",
    "\n",
    "10.什么样的ROC曲线更好?   \n",
    "   * 这条曲线离45°线越远，表示分类效果越好   \n",
    "\n",
    "11.ROC曲线历史   \n",
    "12.confusion matrix：弃真存伪\n",
    "\n",
    "| null |识别结果：喝了酒(Positive)|识别结果：没喝酒(Negative) |   \n",
    "| :------------:|:--------------:|:------------: |   \n",
    "| 实际：喝酒了(Positive)|True Positive|False Negative |   \n",
    "| 实际：没喝酒(Negative)|False Positive|True Negative |   \n",
    "    \n",
    "    目标：抓酒驾\n",
    "    测试仪若显示浓度超标：Positve，阳性\n",
    "    测试仪若显示浓度正常：Negative,阴性   \n",
    "    \n",
    "13.召回率(Recall)，准确率(Precision)\n",
    "   * 召回率高，准确率就低，反之亦然。   \n",
    "   \n",
    "https://www.jiqizhixin.com/articles/2019-03-07-12   \n",
    "14.F1 score   \n",
    "$F1 score = \\frac{\\frac{1}{Recall} + \\frac{1}{Precision}}{2}$"
   ]
  },
  {
   "cell_type": "markdown",
   "metadata": {},
   "source": [
    "*计算F1_Score*"
   ]
  },
  {
   "cell_type": "code",
   "execution_count": 31,
   "metadata": {},
   "outputs": [],
   "source": [
    "import numpy as np\n",
    "import pandas as pd\n",
    "import matplotlib.pyplot as plt\n",
    "%matplotlib inline"
   ]
  },
  {
   "cell_type": "code",
   "execution_count": 13,
   "metadata": {},
   "outputs": [
    {
     "data": {
      "text/plain": [
       "0.47058823529411764"
      ]
     },
     "execution_count": 13,
     "metadata": {},
     "output_type": "execute_result"
    }
   ],
   "source": [
    "from sklearn.metrics import f1_score\n",
    "y_true = [0,0,0,0,1,0,0,0,0,1,1,1,1,0,0,0,1,1,1,0,0,0,0,0,0]\n",
    "y_pred = [0,0,0,0,1,1,0,0,0,0,0,1,0,1,1,0,0,1,1,0,0,0,1,0,1]\n",
    "f1_score(y_true,y_pred)"
   ]
  },
  {
   "cell_type": "code",
   "execution_count": 9,
   "metadata": {},
   "outputs": [],
   "source": [
    "f1_score?"
   ]
  },
  {
   "cell_type": "code",
   "execution_count": 14,
   "metadata": {},
   "outputs": [],
   "source": [
    "from sklearn.metrics import precision_score,recall_score"
   ]
  },
  {
   "cell_type": "code",
   "execution_count": 15,
   "metadata": {},
   "outputs": [
    {
     "data": {
      "text/plain": [
       "0.4444444444444444"
      ]
     },
     "execution_count": 15,
     "metadata": {},
     "output_type": "execute_result"
    }
   ],
   "source": [
    "precision_score(y_true,y_pred)"
   ]
  },
  {
   "cell_type": "code",
   "execution_count": 17,
   "metadata": {},
   "outputs": [
    {
     "data": {
      "text/plain": [
       "0.5"
      ]
     },
     "execution_count": 17,
     "metadata": {},
     "output_type": "execute_result"
    }
   ],
   "source": [
    "recall_score(y_true,y_pred)"
   ]
  },
  {
   "cell_type": "code",
   "execution_count": 18,
   "metadata": {},
   "outputs": [],
   "source": [
    "y_true = [0,0,0,0,0,0,0,0,0,0,0,0,0,0,0,0,1,1,1,0,0,0,0,0,0]\n",
    "y_pred = [0,0,0,0,0,0,0,0,0,0,0,0,0,1,1,0,0,0,1,0,1,1,1,0,0]"
   ]
  },
  {
   "cell_type": "code",
   "execution_count": 19,
   "metadata": {},
   "outputs": [],
   "source": [
    "from sklearn.metrics import accuracy_score"
   ]
  },
  {
   "cell_type": "code",
   "execution_count": 20,
   "metadata": {},
   "outputs": [
    {
     "name": "stdout",
     "output_type": "stream",
     "text": [
      "accuracy = 0.720000, \n",
      " precision = 0.166667, \n",
      " recall = 0.333333, \n",
      " F1_score = 0.222222\n"
     ]
    }
   ],
   "source": [
    "accu = accuracy_score(y_true,y_pred)\n",
    "prec = precision_score(y_true,y_pred)\n",
    "reca = recall_score(y_true,y_pred)\n",
    "F1_score = f1_score(y_true,y_pred)\n",
    "print('accuracy = %f, \\n \\\n",
    "precision = %f, \\n \\\n",
    "recall = %f, \\n \\\n",
    "F1_score = %f'%(accu, prec, reca, F1_score))"
   ]
  },
  {
   "cell_type": "markdown",
   "metadata": {},
   "source": [
    "*练习计算与画ROC*\n",
    "1. 生成原始数据\n",
    "2. 使用模型进行分类\n",
    "3. 用ROC进行效果衡量"
   ]
  },
  {
   "cell_type": "code",
   "execution_count": 21,
   "metadata": {},
   "outputs": [
    {
     "ename": "ModuleNotFoundError",
     "evalue": "No module named 'sklearn.cross_validation'",
     "output_type": "error",
     "traceback": [
      "\u001b[1;31m---------------------------------------------------------------------------\u001b[0m",
      "\u001b[1;31mModuleNotFoundError\u001b[0m                       Traceback (most recent call last)",
      "\u001b[1;32m<ipython-input-21-04cc75799173>\u001b[0m in \u001b[0;36m<module>\u001b[1;34m\u001b[0m\n\u001b[0;32m      1\u001b[0m \u001b[1;32mfrom\u001b[0m \u001b[0msklearn\u001b[0m\u001b[1;33m.\u001b[0m\u001b[0mdatasets\u001b[0m \u001b[1;32mimport\u001b[0m \u001b[0mmake_classification\u001b[0m\u001b[1;33m\u001b[0m\u001b[1;33m\u001b[0m\u001b[0m\n\u001b[0;32m      2\u001b[0m \u001b[1;32mfrom\u001b[0m \u001b[0msklearn\u001b[0m\u001b[1;33m.\u001b[0m\u001b[0mlinear_model\u001b[0m \u001b[1;32mimport\u001b[0m \u001b[0mLogisticRegression\u001b[0m\u001b[1;33m\u001b[0m\u001b[1;33m\u001b[0m\u001b[0m\n\u001b[1;32m----> 3\u001b[1;33m \u001b[1;32mfrom\u001b[0m \u001b[0msklearn\u001b[0m\u001b[1;33m.\u001b[0m\u001b[0mcross_validation\u001b[0m \u001b[1;32mimport\u001b[0m \u001b[0mtrain_test_split\u001b[0m\u001b[1;33m\u001b[0m\u001b[1;33m\u001b[0m\u001b[0m\n\u001b[0m\u001b[0;32m      4\u001b[0m \u001b[1;33m\u001b[0m\u001b[0m\n\u001b[0;32m      5\u001b[0m \u001b[0mX\u001b[0m\u001b[1;33m,\u001b[0m\u001b[0my\u001b[0m \u001b[1;33m=\u001b[0m \u001b[0mmake_classification\u001b[0m\u001b[1;33m(\u001b[0m\u001b[0mn_samples\u001b[0m\u001b[1;33m=\u001b[0m\u001b[1;36m10000\u001b[0m\u001b[1;33m,\u001b[0m\u001b[0mn_features\u001b[0m\u001b[1;33m=\u001b[0m\u001b[1;36m10\u001b[0m\u001b[1;33m,\u001b[0m\u001b[0mn_classes\u001b[0m\u001b[1;33m=\u001b[0m\u001b[1;36m2\u001b[0m\u001b[1;33m,\u001b[0m\u001b[0mn_informative\u001b[0m\u001b[1;33m=\u001b[0m\u001b[1;36m5\u001b[0m\u001b[1;33m)\u001b[0m\u001b[1;33m\u001b[0m\u001b[1;33m\u001b[0m\u001b[0m\n",
      "\u001b[1;31mModuleNotFoundError\u001b[0m: No module named 'sklearn.cross_validation'"
     ]
    }
   ],
   "source": [
    "from sklearn.datasets import make_classification\n",
    "from sklearn.linear_model import LogisticRegression\n",
    "from sklearn.cross_validation import train_test_split\n",
    "# 这个cross_validatio这个包早就不在使用了，划分到了model_selection这个包中\n",
    "\n",
    "X,y = make_classification(n_samples=10000,n_features=10,n_classes=2,n_informative=5)"
   ]
  },
  {
   "cell_type": "code",
   "execution_count": 27,
   "metadata": {},
   "outputs": [],
   "source": [
    "from sklearn.datasets import make_classification\n",
    "from sklearn.linear_model import LogisticRegression\n",
    "from sklearn.model_selection import train_test_split\n",
    "\n",
    "X,y = make_classification(n_samples=10000,n_features=10,n_classes=2,n_informative=5)"
   ]
  },
  {
   "cell_type": "code",
   "execution_count": 28,
   "metadata": {},
   "outputs": [],
   "source": [
    "X_train,X_test,y_train,y_test = train_test_split(X,y,test_size=0.2,random_state=0)"
   ]
  },
  {
   "cell_type": "code",
   "execution_count": 29,
   "metadata": {},
   "outputs": [
    {
     "name": "stderr",
     "output_type": "stream",
     "text": [
      "F:\\Anaconda3\\lib\\site-packages\\sklearn\\linear_model\\logistic.py:433: FutureWarning: Default solver will be changed to 'lbfgs' in 0.22. Specify a solver to silence this warning.\n",
      "  FutureWarning)\n"
     ]
    },
    {
     "data": {
      "text/plain": [
       "LogisticRegression(C=1.0, class_weight=None, dual=False, fit_intercept=True,\n",
       "          intercept_scaling=1, max_iter=100, multi_class='warn',\n",
       "          n_jobs=None, penalty='l2', random_state=None, solver='warn',\n",
       "          tol=0.0001, verbose=0, warm_start=False)"
      ]
     },
     "execution_count": 29,
     "metadata": {},
     "output_type": "execute_result"
    }
   ],
   "source": [
    "clf = LogisticRegression()\n",
    "clf.fit(X_train,y_train)"
   ]
  },
  {
   "cell_type": "code",
   "execution_count": 32,
   "metadata": {},
   "outputs": [],
   "source": [
    "from sklearn.metrics import roc_auc_score,roc_curve\n",
    "\n",
    "preds = clf.predict_proba(X_test)[:,1]\n",
    "fpr,tpr,_ = roc_curve(y_test,preds)\n",
    "\n",
    "df = pd.DataFrame(dict(fpr=fpr,tpr=tpr))"
   ]
  },
  {
   "cell_type": "code",
   "execution_count": 33,
   "metadata": {},
   "outputs": [
    {
     "data": {
      "text/html": [
       "<div>\n",
       "<style scoped>\n",
       "    .dataframe tbody tr th:only-of-type {\n",
       "        vertical-align: middle;\n",
       "    }\n",
       "\n",
       "    .dataframe tbody tr th {\n",
       "        vertical-align: top;\n",
       "    }\n",
       "\n",
       "    .dataframe thead th {\n",
       "        text-align: right;\n",
       "    }\n",
       "</style>\n",
       "<table border=\"1\" class=\"dataframe\">\n",
       "  <thead>\n",
       "    <tr style=\"text-align: right;\">\n",
       "      <th></th>\n",
       "      <th>fpr</th>\n",
       "      <th>tpr</th>\n",
       "    </tr>\n",
       "  </thead>\n",
       "  <tbody>\n",
       "    <tr>\n",
       "      <th>0</th>\n",
       "      <td>0.000000</td>\n",
       "      <td>0.000000</td>\n",
       "    </tr>\n",
       "    <tr>\n",
       "      <th>1</th>\n",
       "      <td>0.000000</td>\n",
       "      <td>0.000992</td>\n",
       "    </tr>\n",
       "    <tr>\n",
       "      <th>2</th>\n",
       "      <td>0.001008</td>\n",
       "      <td>0.000992</td>\n",
       "    </tr>\n",
       "    <tr>\n",
       "      <th>3</th>\n",
       "      <td>0.001008</td>\n",
       "      <td>0.010913</td>\n",
       "    </tr>\n",
       "    <tr>\n",
       "      <th>4</th>\n",
       "      <td>0.002016</td>\n",
       "      <td>0.010913</td>\n",
       "    </tr>\n",
       "  </tbody>\n",
       "</table>\n",
       "</div>"
      ],
      "text/plain": [
       "        fpr       tpr\n",
       "0  0.000000  0.000000\n",
       "1  0.000000  0.000992\n",
       "2  0.001008  0.000992\n",
       "3  0.001008  0.010913\n",
       "4  0.002016  0.010913"
      ]
     },
     "execution_count": 33,
     "metadata": {},
     "output_type": "execute_result"
    }
   ],
   "source": [
    "df.head()"
   ]
  },
  {
   "cell_type": "code",
   "execution_count": 34,
   "metadata": {},
   "outputs": [],
   "source": [
    "roc_auc = roc_auc_score(y_test,preds)"
   ]
  },
  {
   "cell_type": "code",
   "execution_count": 56,
   "metadata": {},
   "outputs": [
    {
     "data": {
      "image/png": "[encoded data removed]",
      "text/plain": [
       "<Figure size 648x576 with 1 Axes>"
      ]
     },
     "metadata": {
      "needs_background": "light"
     },
     "output_type": "display_data"
    }
   ],
   "source": [
    "plt.figure(figsize=[9,8])\n",
    "lw =2\n",
    "plt.plot(fpr,tpr,color='orange',\n",
    "         lw=lw,label='ROC curve (area = %0.2f)' % roc_auc)\n",
    "plt.plot([0,1],[0,1],color='navy',lw=lw,linestyle='--')\n",
    "plt.xlim([0.0,1.0])\n",
    "plt.ylim([0.0,1.05])\n",
    "plt.xlabel('False Positive Rate')\n",
    "plt.ylabel('True Positive Rate')\n",
    "plt.title('Reciver operating characteristic Line')\n",
    "plt.legend(loc='lower right')\n",
    "plt.show()"
   ]
  },
  {
   "cell_type": "markdown",
   "metadata": {},
   "source": [
    "**4.多分类模型，如何衡量模型结果?**   \n",
    "* 直观上不容易像连续变量一样定义每一个预测值离观测值的距离(欧几里得距离)\n",
    "* 多分类时，用cross-entropy来衡量分类的结果"
   ]
  },
  {
   "cell_type": "markdown",
   "metadata": {},
   "source": [
    "* 借鉴信息熵\n",
    "$-\\sum_{i}^Kp(y_i)logp(y_i)$   \n",
    "    * 将信息(在这里的信息是一个概率分布)编码，所需的最小平均bits长度"
   ]
  },
  {
   "cell_type": "markdown",
   "metadata": {},
   "source": [
    "* 信息熵的特点：\n",
    "    * 衡量混乱程度，信息熵越大，越混乱\n",
    "    * 什么叫混乱?   \n",
    "        。p(positive)=0,p(negative)=1   \n",
    "        。p(positive)=0.5,p(negative)=0.5"
   ]
  },
  {
   "cell_type": "markdown",
   "metadata": {},
   "source": [
    "* 在分类问题中(classification)\n",
    "    * 观测到的每个样本可以属于多种(K个)类别，$ y_i , i = 1,2,3,...K$\n",
    "    * 用模型预测出来的每一个类别，出现的概率，$q(\\widehat{y}_i)$"
   ]
  },
  {
   "cell_type": "markdown",
   "metadata": {},
   "source": [
    "* cross-entropy\n",
    "    * cross_entropy = $-\\frac{1}{n}(\\sum_{i}^n I(y_i==1)logq(\\widehat{y}_i=1)+ ...+ I(y_i==K)logq(\\widehat{y}_i=K))$\n",
    "    * n为样本量，I是指示函数，当$y_i=k$为真时，$I(y_i==K)$值为1"
   ]
  },
  {
   "cell_type": "markdown",
   "metadata": {},
   "source": [
    "* 二分类时\n",
    "    * cross_entropy = $-\\frac{1}{n}(\\sum_{i}^n I(y_i=0)logq(\\widehat{y}_i=0)+ I(y_i=1)logq(\\widehat{y}_i=1))$\n",
    "    * 再简化一点，cross_entropy = $-\\frac{1}{n}(\\sum_{i}^n y_ilog\\widehat{q}_i+ (1-y_i)log(1- \\widehat{q}_i))$\n",
    "  "
   ]
  },
  {
   "cell_type": "markdown",
   "metadata": {},
   "source": [
    "* 一个案例来算一算二分类的cross_entropy"
   ]
  },
  {
   "cell_type": "code",
   "execution_count": 2,
   "metadata": {},
   "outputs": [],
   "source": [
    "import numpy as np\n",
    "A =np.array([0,0,1,1,1,0,0,0,0,1,0,1])\n",
    "q =np.array([0.1,0.2,0.8,0.9,0.7,0.1,0.1,0.2,0.3,0.9,0.6,0.5])\n",
    "n = len(A)"
   ]
  },
  {
   "cell_type": "code",
   "execution_count": 9,
   "metadata": {},
   "outputs": [
    {
     "name": "stdout",
     "output_type": "stream",
     "text": [
      "cross_entropy =  0.2932517527119438\n"
     ]
    }
   ],
   "source": [
    "cross_entropy = -1/n*(np.sum(A*np.log(q))+ np.sum((1-A)*np.log(1-q)))\n",
    "print('cross_entropy = ',cross_entropy)\n",
    "#print('cross_entropy = %f'%cross_entropy)"
   ]
  },
  {
   "cell_type": "markdown",
   "metadata": {},
   "source": [
    "* 讲logistic regression时，要从maximum-likelihood推出cross_entropy"
   ]
  },
  {
   "cell_type": "markdown",
   "metadata": {},
   "source": [
    "**5.imbalanced问题**   \n",
    "* imbalance data就是指正负样本数量相差太大，一类占10%甚至1%以下，另一类占绝大多数，这对机器学习算法是个现实的挑战\n",
    "* 用什么样的衡量方式？不能光看accuracy\n",
    "* 1000个样本，大多数(980)都属于负样本，正样本只有20个，算法容易被负样本带偏\n",
    "* 传统方法(决策树，逻辑回归)倾向于预测样本量大的类别，小样本就被认为是**噪音**，被忽略了"
   ]
  },
  {
   "cell_type": "code",
   "execution_count": null,
   "metadata": {},
   "outputs": [],
   "source": []
  },
  {
   "cell_type": "code",
   "execution_count": null,
   "metadata": {},
   "outputs": [],
   "source": []
  },
  {
   "cell_type": "markdown",
   "metadata": {},
   "source": [
    "* 但有很多问题的正样本数量就是很少\n",
    "    * 金融领域，个人信贷违约\n",
    "    * 订阅服务的客服流失(custom churn rate):对于中国电信，NetFlix，Hulu这样的公司，准确预测客户流失特别重要\n",
    "    * 罕见疾病"
   ]
  },
  {
   "cell_type": "markdown",
   "metadata": {},
   "source": [
    "**如何应对imbalance datasets?**\n",
    "1. 使用合适的衡量方式\n",
    "    * F1   \n",
    "2. 重新采样(resampling)\n",
    "    * random under-sampling\n",
    "        * 原有分布：负样本980，正样本20\n",
    "        * under-sampling后：负样本98，正样本20\n",
    "        * 优点：\n",
    "            。提升运算效率，减少运算时间\n",
    "        * 缺点：\n",
    "            。有可能丢失重要的信息\n",
    "            。对总体的估计可能是有偏差的\n",
    "    * random over-sampling\n",
    "        * 原有分布：负样本980，正样本20\n",
    "        * over-sampling后：负样本980，正样本500\n",
    "        * 优点：\n",
    "            。保留所有有用信息\n",
    "        * 缺点：\n",
    "            。有可能overfiting，过拟合\n",
    "    * 基于cluster的重新采样(先用聚类方法找出子类)\n",
    "        * 原有分布：负样本3类：每类数量 200，400，380，正样本2类：每类数量 13，7\n",
    "        * 重新采样后：负样本3类：每类数量 300，300，300，正样本2类：每类数量 150，150\n",
    "        * 优点：\n",
    "            。既解决不同类的样本不均等，又解决同类中子类间的样本不均等\n",
    "        * 缺点：\n",
    "            。有可能过拟合\n",
    "    * 合成数据 SMOTE\n",
    "        * 原有分布：负样本980，正样本20\n",
    "        * 合成数据后：负样本980，正样本500(非重复采样，而是生成正样本数量(插值法))\n",
    "        ![合成数据SMOTE](./合成数据SMOTE.png) \n",
    "        * 优点：\n",
    "            。保留负样本所有信息\n",
    "            。减缓过拟合\n",
    "        * 缺点：\n",
    "            。SMOTE生成的数据可能引入更多的噪音\n",
    "            。对高维度的数据效果不好\n",
    "3. 集成算法\n"
   ]
  },
  {
   "cell_type": "markdown",
   "metadata": {},
   "source": [
    "**安装imbalanced-learn**   \n",
    "* pip install -U imbalanced-learn"
   ]
  },
  {
   "cell_type": "code",
   "execution_count": null,
   "metadata": {},
   "outputs": [],
   "source": [
    "        "
   ]
  },
  {
   "cell_type": "code",
   "execution_count": null,
   "metadata": {},
   "outputs": [],
   "source": []
  },
  {
   "cell_type": "code",
   "execution_count": null,
   "metadata": {},
   "outputs": [],
   "source": []
  },
  {
   "cell_type": "code",
   "execution_count": null,
   "metadata": {},
   "outputs": [],
   "source": []
  },
  {
   "cell_type": "code",
   "execution_count": null,
   "metadata": {},
   "outputs": [],
   "source": []
  },
  {
   "cell_type": "code",
   "execution_count": null,
   "metadata": {},
   "outputs": [],
   "source": []
  },
  {
   "cell_type": "code",
   "execution_count": null,
   "metadata": {},
   "outputs": [],
   "source": []
  },
  {
   "cell_type": "code",
   "execution_count": null,
   "metadata": {},
   "outputs": [],
   "source": []
  },
  {
   "cell_type": "code",
   "execution_count": null,
   "metadata": {},
   "outputs": [],
   "source": []
  },
  {
   "cell_type": "code",
   "execution_count": null,
   "metadata": {},
   "outputs": [],
   "source": []
  }
 ],
 "metadata": {
  "kernelspec": {
   "display_name": "Python 3",
   "language": "python",
   "name": "python3"
  },
  "language_info": {
   "codemirror_mode": {
    "name": "ipython",
    "version": 3
   },
   "file_extension": ".py",
   "mimetype": "text/x-python",
   "name": "python",
   "nbconvert_exporter": "python",
   "pygments_lexer": "ipython3",
   "version": "3.7.3"
  }
 },
 "nbformat": 4,
 "nbformat_minor": 2
}
