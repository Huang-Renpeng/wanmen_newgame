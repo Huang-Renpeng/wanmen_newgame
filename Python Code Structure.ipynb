{
 "cells": [
  {
   "cell_type": "markdown",
   "metadata": {},
   "source": [
    "**Python Code Structure**"
   ]
  },
  {
   "cell_type": "markdown",
   "metadata": {},
   "source": [
    "*Condition*"
   ]
  },
  {
   "cell_type": "code",
   "execution_count": 2,
   "metadata": {},
   "outputs": [
    {
     "name": "stdout",
     "output_type": "stream",
     "text": [
      "Do take your umberalla with you.\n"
     ]
    }
   ],
   "source": [
    "possibility_to_rain = 0.9\n",
    "if possibility_to_rain > 0.8:\n",
    "    print('Do take your umberalla with you.')\n",
    "elif possibility_to_rain > 0.3:\n",
    "    print('Take your umberalla just in case.hahahaha')\n",
    "else:\n",
    "    print('Enjoy the sunshine!')"
   ]
  },
  {
   "cell_type": "code",
   "execution_count": 3,
   "metadata": {},
   "outputs": [
    {
     "name": "stdout",
     "output_type": "stream",
     "text": [
      "Checking selected.\n"
     ]
    }
   ],
   "source": [
    "card_type = 'debit'\n",
    "account_type = 'checking'\n",
    "\n",
    "if card_type == 'debit':\n",
    "    if account_type == 'checking':\n",
    "        print('Checking selected.')\n",
    "    else:\n",
    "        print('Savings selected.')\n",
    "else:\n",
    "    print('Credit card.')"
   ]
  },
  {
   "cell_type": "markdown",
   "metadata": {},
   "source": [
    "*Loop*"
   ]
  },
  {
   "cell_type": "markdown",
   "metadata": {},
   "source": [
    "* While loop"
   ]
  },
  {
   "cell_type": "code",
   "execution_count": 4,
   "metadata": {},
   "outputs": [
    {
     "name": "stdout",
     "output_type": "stream",
     "text": [
      "cnt = 1 \n",
      "cnt = 2 \n",
      "cnt = 3 \n",
      "cnt = 4 \n",
      "cnt = 5 \n",
      "cnt = 6 \n",
      "cnt = 7 \n",
      "cnt = 8 \n",
      "cnt = 9 \n",
      "finish\n"
     ]
    }
   ],
   "source": [
    "cnt = 1\n",
    "while cnt < 10:\n",
    "    print('cnt = %d ' % cnt)\n",
    "    cnt += 1\n",
    "    \n",
    "print('finish')"
   ]
  },
  {
   "cell_type": "code",
   "execution_count": 5,
   "metadata": {},
   "outputs": [
    {
     "name": "stdout",
     "output_type": "stream",
     "text": [
      "cnt = 1 \n",
      "Do you want to continue? [y\\n]: y\n",
      "cnt = 2 \n",
      "Do you want to continue? [y\\n]: y\n",
      "cnt = 3 \n",
      "Do you want to continue? [y\\n]: n\n"
     ]
    }
   ],
   "source": [
    "cnt = 1\n",
    "while cnt< 11:\n",
    "    print(cnt)\n",
    "    if cnt == 11:\n",
    "     "
   ]
  },
  {
   "cell_type": "code",
   "execution_count": 7,
   "metadata": {},
   "outputs": [
    {
     "name": "stdout",
     "output_type": "stream",
     "text": [
      "1\n",
      "2\n",
      "3\n",
      "4\n",
      "5\n",
      "6\n",
      "7\n",
      "8\n",
      "9\n",
      "10\n",
      "Counting complete.\n"
     ]
    }
   ],
   "source": [
    "cnt = 1\n",
    "while cnt < 11:\n",
    "    print(cnt)\n",
    "    cnt += 1\n",
    "    if cnt == 11:\n",
    "        print('Counting complete.')"
   ]
  },
  {
   "cell_type": "code",
   "execution_count": 8,
   "metadata": {},
   "outputs": [
    {
     "name": "stdout",
     "output_type": "stream",
     "text": [
      "while cnt: 0\n",
      "while cnt: 1\n",
      "while cnt: 2\n",
      "while cnt: 3\n",
      "while cnt: 4\n",
      "while cnt: 5\n",
      "while cnt: 6\n",
      "while cnt: 7\n",
      "while cnt: 8\n",
      "while cnt: 9\n",
      "while cnt: 10\n"
     ]
    }
   ],
   "source": [
    "cnt = 0\n",
    "while cnt < 11:\n",
    "    print('while cnt:',cnt)\n",
    "    cnt += 1\n",
    "    if (cnt == 11):\n",
    "        break\n",
    "else:\n",
    "    print('else:',cnt)"
   ]
  },
  {
   "cell_type": "code",
   "execution_count": 9,
   "metadata": {},
   "outputs": [
    {
     "name": "stdout",
     "output_type": "stream",
     "text": [
      "while cnt: 0\n",
      "while cnt: 1\n",
      "while cnt: 2\n",
      "while cnt: 3\n",
      "while cnt: 4\n",
      "while cnt: 5\n",
      "while cnt: 6\n",
      "while cnt: 7\n",
      "while cnt: 8\n",
      "while cnt: 9\n",
      "while cnt: 10\n",
      "else: 11\n"
     ]
    }
   ],
   "source": [
    "cnt = 0\n",
    "while cnt < 11:\n",
    "    print('while cnt:',cnt)\n",
    "    cnt += 1\n",
    "else:\n",
    "    print('else:',cnt)"
   ]
  },
  {
   "cell_type": "markdown",
   "metadata": {},
   "source": [
    "* For loop"
   ]
  },
  {
   "cell_type": "code",
   "execution_count": 1,
   "metadata": {},
   "outputs": [],
   "source": [
    "?range"
   ]
  },
  {
   "cell_type": "code",
   "execution_count": 2,
   "metadata": {},
   "outputs": [
    {
     "name": "stdout",
     "output_type": "stream",
     "text": [
      "0\n",
      "1\n",
      "2\n",
      "3\n",
      "4\n",
      "5\n"
     ]
    }
   ],
   "source": [
    "for i in range(10):\n",
    "    print(i)\n",
    "    if i == 5:\n",
    "        break"
   ]
  },
  {
   "cell_type": "code",
   "execution_count": 8,
   "metadata": {},
   "outputs": [
    {
     "data": {
      "text/plain": [
       "range"
      ]
     },
     "execution_count": 8,
     "metadata": {},
     "output_type": "execute_result"
    }
   ],
   "source": [
    "type(range(10))"
   ]
  },
  {
   "cell_type": "code",
   "execution_count": 3,
   "metadata": {},
   "outputs": [
    {
     "name": "stdout",
     "output_type": "stream",
     "text": [
      "1\n",
      "2\n",
      "3\n",
      "4\n",
      "here it is 9\n"
     ]
    }
   ],
   "source": [
    "result = 0\n",
    "for num in range(1,10):\n",
    "    if num % 2 == 0:\n",
    "        result += 1\n",
    "        print(result)\n",
    "else:\n",
    "    print(\"here it is\",num)"
   ]
  },
  {
   "cell_type": "code",
   "execution_count": 4,
   "metadata": {},
   "outputs": [
    {
     "name": "stdout",
     "output_type": "stream",
     "text": [
      "1\n",
      "2\n",
      "3\n",
      "4\n",
      "here it is 9\n"
     ]
    }
   ],
   "source": [
    "result = 0\n",
    "for num in range(1,10):\n",
    "    if num % 2 == 0:\n",
    "        result += 1\n",
    "        print(result)\n",
    "else:\n",
    "    print(\"here it is %d\" % num)"
   ]
  },
  {
   "cell_type": "code",
   "execution_count": 7,
   "metadata": {},
   "outputs": [
    {
     "name": "stdout",
     "output_type": "stream",
     "text": [
      "1\n",
      "2\n",
      "3\n",
      "4\n",
      "here it is 9\n"
     ]
    }
   ],
   "source": [
    "result = 0\n",
    "for num in range(1,10):\n",
    "    if num % 2 == 0:\n",
    "        result += 1\n",
    "        print(result)\n",
    "else:\n",
    "    print(\"here it is {}\" .format(num))"
   ]
  },
  {
   "cell_type": "markdown",
   "metadata": {},
   "source": [
    "*Namespace & Scope*"
   ]
  },
  {
   "cell_type": "code",
   "execution_count": 12,
   "metadata": {},
   "outputs": [
    {
     "name": "stdout",
     "output_type": "stream",
     "text": [
      "5\n",
      "1\n"
     ]
    }
   ],
   "source": [
    "# global x\n",
    "x = 1\n",
    " \n",
    "def new_x():\n",
    "    x = 5\n",
    "    print(x)\n",
    "\n",
    "new_x()\n",
    "\n",
    "print(x)"
   ]
  },
  {
   "cell_type": "code",
   "execution_count": 13,
   "metadata": {},
   "outputs": [
    {
     "name": "stdout",
     "output_type": "stream",
     "text": [
      "1\n",
      "1\n"
     ]
    }
   ],
   "source": [
    "# global x\n",
    "x = 1\n",
    " \n",
    "def new_x():\n",
    "    print(x)\n",
    "    \n",
    "new_x()\n",
    "\n",
    "print(x)"
   ]
  },
  {
   "cell_type": "code",
   "execution_count": 15,
   "metadata": {},
   "outputs": [
    {
     "name": "stdout",
     "output_type": "stream",
     "text": [
      "1\n",
      "5\n"
     ]
    }
   ],
   "source": [
    "# global x\n",
    "x = 1\n",
    " \n",
    "def change_x():\n",
    "    global x\n",
    "    x =5\n",
    "   \n",
    "print(x)    \n",
    "change_x()\n",
    "print(x)"
   ]
  },
  {
   "cell_type": "code",
   "execution_count": null,
   "metadata": {},
   "outputs": [],
   "source": []
  },
  {
   "cell_type": "code",
   "execution_count": null,
   "metadata": {},
   "outputs": [],
   "source": []
  },
  {
   "cell_type": "code",
   "execution_count": null,
   "metadata": {},
   "outputs": [],
   "source": []
  },
  {
   "cell_type": "code",
   "execution_count": null,
   "metadata": {},
   "outputs": [],
   "source": []
  },
  {
   "cell_type": "code",
   "execution_count": null,
   "metadata": {},
   "outputs": [],
   "source": []
  },
  {
   "cell_type": "code",
   "execution_count": null,
   "metadata": {},
   "outputs": [],
   "source": []
  },
  {
   "cell_type": "code",
   "execution_count": null,
   "metadata": {},
   "outputs": [],
   "source": []
  },
  {
   "cell_type": "code",
   "execution_count": null,
   "metadata": {},
   "outputs": [],
   "source": []
  },
  {
   "cell_type": "code",
   "execution_count": null,
   "metadata": {},
   "outputs": [],
   "source": []
  },
  {
   "cell_type": "code",
   "execution_count": null,
   "metadata": {},
   "outputs": [],
   "source": []
  },
  {
   "cell_type": "code",
   "execution_count": null,
   "metadata": {},
   "outputs": [],
   "source": []
  },
  {
   "cell_type": "code",
   "execution_count": null,
   "metadata": {},
   "outputs": [],
   "source": []
  },
  {
   "cell_type": "code",
   "execution_count": null,
   "metadata": {},
   "outputs": [],
   "source": []
  }
 ],
 "metadata": {
  "kernelspec": {
   "display_name": "Python 3",
   "language": "python",
   "name": "python3"
  },
  "language_info": {
   "codemirror_mode": {
    "name": "ipython",
    "version": 3
   },
   "file_extension": ".py",
   "mimetype": "text/x-python",
   "name": "python",
   "nbconvert_exporter": "python",
   "pygments_lexer": "ipython3",
   "version": "3.7.3"
  }
 },
 "nbformat": 4,
 "nbformat_minor": 2
}
